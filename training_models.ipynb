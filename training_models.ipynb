{
 "cells": [
  {
   "cell_type": "markdown",
   "id": "d73d7d4c-770e-42ff-9942-46ce7bece0cf",
   "metadata": {},
   "source": [
    "# 🍷 Wine & Food NLP with spaCy\n",
    "\n",
    "This project builds two lightweight NLP models using [spaCy](https://spacy.io) for handling natural language queries related to wine and food. It supports:\n",
    "\n",
    "- **Intent Classification**: Distinguish between wine or food recommendation queries.\n",
    "- **Named Entity Recognition (NER)**: Extract key details like wine name, price, and tasting descriptions.\n",
    "\n",
    "---\n",
    "<br>\n",
    "\n",
    "### Text Classification Model (Intent Detection)\n",
    "Example Inputs:\n",
    "- “Recommend a red wine under 300 HKD that pairs with grilled lamb.” → recommend_wine\n",
    "- “What should I cook for dinner to go with a chilled bottle of Sancerre?” → recommend_food\n",
    "\n",
    "\n",
    "Output Example\n",
    "- {'recommend_wine': 0.01, 'recommend_food': 0.99}\n",
    "<br>\n",
    "\n",
    "---\n",
    "\n"
   ]
  },
  {
   "cell_type": "code",
   "execution_count": 26,
   "id": "dabc9800-d3c1-4745-8d77-7ae534217b1f",
   "metadata": {},
   "outputs": [
    {
     "name": "stdout",
     "output_type": "stream",
     "text": [
      "Epoch 1, Losses: {'textcat': 1.0340981185436249}\n",
      "Epoch 2, Losses: {'textcat': 0.7742716521024704}\n",
      "Epoch 3, Losses: {'textcat': 0.4202875867486}\n",
      "Epoch 4, Losses: {'textcat': 0.13618924655020237}\n",
      "Epoch 5, Losses: {'textcat': 0.02502437774091959}\n",
      "Epoch 6, Losses: {'textcat': 0.002704028840526007}\n",
      "Epoch 7, Losses: {'textcat': 0.0002550006211095024}\n",
      "Epoch 8, Losses: {'textcat': 3.303227640572004e-05}\n",
      "Epoch 9, Losses: {'textcat': 6.782430546081741e-06}\n",
      "Epoch 10, Losses: {'textcat': 2.1016941502693953e-06}\n",
      "Epoch 11, Losses: {'textcat': 8.968619056304306e-07}\n",
      "Epoch 12, Losses: {'textcat': 4.847795551654599e-07}\n",
      "Epoch 13, Losses: {'textcat': 3.1036319469990303e-07}\n",
      "Epoch 14, Losses: {'textcat': 2.2392674026150416e-07}\n",
      "Epoch 15, Losses: {'textcat': 1.7591662349047965e-07}\n",
      "Epoch 16, Losses: {'textcat': 1.4668297509956574e-07}\n",
      "Epoch 17, Losses: {'textcat': 1.2749947941870232e-07}\n",
      "Epoch 18, Losses: {'textcat': 1.1411040290454366e-07}\n",
      "Epoch 19, Losses: {'textcat': 1.0419687868079563e-07}\n",
      "Epoch 20, Losses: {'textcat': 9.649934717970154e-08}\n"
     ]
    }
   ],
   "source": [
    "import spacy\n",
    "from spacy.training.example import Example\n",
    "\n",
    "# prepare training data with annotations\n",
    "TRAIN_DATA = [\n",
    "    (\"What wine goes well with spicy Thai green curry?\", {\"cats\": {\"recommend_wine\": 1.0, \"recommend_food\": 0.0}}),\n",
    "    (\"Suggest a red wine under 300 HKD that pairs with grilled lamb.\", {\"cats\": {\"recommend_wine\": 1.0, \"recommend_food\": 0.0}}),\n",
    "    (\"I have a bottle of Amarone — what foods would pair well with it?\", {\"cats\": {\"recommend_wine\": 0.0, \"recommend_food\": 1.0}}),\n",
    "    (\"What should I cook for dinner to go with a chilled bottle of Sancerre?\", {\"cats\": {\"recommend_wine\": 0.0, \"recommend_food\": 1.0}})\n",
    "]\n",
    "\n",
    "# create blank NLP pipeline and add labels\n",
    "nlp = spacy.blank(\"en\")\n",
    "textcat = nlp.add_pipe(\"textcat\")\n",
    "textcat.add_label(\"recommend_wine\")\n",
    "textcat.add_label(\"recommend_food\")\n",
    "\n",
    "# train\n",
    "optimizer = nlp.begin_training()\n",
    "for i in range(20):\n",
    "    losses = {}\n",
    "    for text, annotation in TRAIN_DATA:\n",
    "        example = Example.from_dict(nlp.make_doc(text), annotation)\n",
    "        nlp.update([example], sgd=optimizer, losses=losses)\n",
    "    print(f\"Epoch {i+1}, Losses: {losses}\")\n",
    "\n",
    "# save text categorization model\n",
    "nlp.to_disk(\"textcat_model\")"
   ]
  },
  {
   "cell_type": "markdown",
   "id": "c65fabde-ef0e-46f3-b404-297cd8233e33",
   "metadata": {},
   "source": [
    "<br>\n",
    "\n",
    "To use the trained model, load it and pass a query."
   ]
  },
  {
   "cell_type": "code",
   "execution_count": 27,
   "id": "7c694d9f-0b15-4562-8551-1d41545da50e",
   "metadata": {},
   "outputs": [
    {
     "name": "stdout",
     "output_type": "stream",
     "text": [
      "{'recommend_wine': 0.1159258708357811, 'recommend_food': 0.8840740919113159}\n"
     ]
    }
   ],
   "source": [
    "nlp_textcat = spacy.load(\"textcat_model\")\n",
    "\n",
    "query = \"What should I cook to go with my Champagne?\" # test a query out!\n",
    "doc = nlp_textcat(query)\n",
    "print(doc.cats)"
   ]
  },
  {
   "cell_type": "markdown",
   "id": "17c1bdce-54d0-42b8-bb94-2efebfe1c100",
   "metadata": {},
   "source": [
    "<br>\n",
    "\n",
    "### Named Entity Recognition (NER) Model\n",
    "Extracted Fields:\n",
    "- wine_name: “Silver Oak 2019”\n",
    "- price: “$120”\n",
    "- description_phrase: “vanilla and cherries”\n",
    "\n",
    "Output Example\n",
    "- wine_name : 2020 Opus One\n",
    "- price : $299\n",
    "- description_phrase : chocolate, spice, and tobacco\n",
    "\n",
    "---\n",
    "\n",
    "**Quick Notes**: \n",
    "- A problem you will likely encounter when training a NER with multiple labels is the quality of annotations\n",
    "- Annotation indices (i.e., start index and end index) should match with the start and end indices of the token/s\n",
    "- For example, \"Try Château Margaux for $350.\" \"Château Margaux\" has a valid token span from start=4 to end=19. An error would occur if you try to index end=18.\n",
    "- Remember this when generating training data using LLMs, as they are prone to inaccurate indexing. Use Prodigy to help label your training data"
   ]
  },
  {
   "cell_type": "code",
   "execution_count": null,
   "id": "73239c8a-0b2a-4638-a4ee-77ed7bb844e8",
   "metadata": {},
   "outputs": [],
   "source": [
    "import spacy\n",
    "from spacy.training.example import Example\n",
    "from spacy.tokens import DocBin"
   ]
  },
  {
   "cell_type": "code",
   "execution_count": null,
   "id": "eaaa07bd-7bdd-482f-98c6-e3c50c815aa7",
   "metadata": {},
   "outputs": [],
   "source": [
    "# function for checking misaligned indices\n",
    "def check_alignment(train_data):\n",
    "    for i, (text, annots) in enumerate(train_data):\n",
    "        doc = nlp(text)\n",
    "        entities = []\n",
    "        errors = False\n",
    "\n",
    "        print(f\"Sample {i+1}: {text}\")\n",
    "        for start, end, label in annots[\"entities\"]:\n",
    "            span = doc.char_span(start, end, label=label, alignment_mode=\"strict\")\n",
    "            if span is None:\n",
    "                print(f\"Misaligned span: '{text[start:end]}' -> ({start}, {end}) for label {label}\")\n",
    "                errors = True\n",
    "            else:\n",
    "                print(f\"Valid span: {span.text} ({span.start_char}, {span.end_char})\")\n",
    "        \n",
    "        if not errors:\n",
    "            print(\"all spans aligned\")"
   ]
  },
  {
   "cell_type": "code",
   "execution_count": 16,
   "id": "018c0147-6623-4bad-88cd-ed8dedae84d8",
   "metadata": {},
   "outputs": [],
   "source": [
    "# Training data for NER\n",
    "NER_DATA = [\n",
    "    (\"What wine goes well with spicy Thai green curry with coconut milk?\",\n",
    "     {\"entities\": [\n",
    "         (25, 66, \"pairing_item\")  # \"spicy Thai green curry with coconut milk\"\n",
    "     ]}),\n",
    "\n",
    "    (\"Recommend a red wine under 300 HKD that pairs well with grilled lamb and comes from Spain\",\n",
    "     {\"entities\": [\n",
    "         (27, 34, \"price\"),          # \"300 HKD\"\n",
    "         (56, 68, \"pairing_item\"),   # \"grilled lamb\"\n",
    "         (84, 89, \"region\")          # \"Spain\"\n",
    "     ]}),\n",
    "\n",
    "    (\"Suggest a celebratory wine that works with oysters and has high acidity.\",\n",
    "     {\"entities\": [\n",
    "         (10, 21, \"occasion\"),               # \"celebratory\"\n",
    "         (43, 50, \"pairing_item\"),          # \"oysters\"\n",
    "         (59, 71, \"description_phrase\")     # \"high acidity\"\n",
    "     ]}),\n",
    "\n",
    "    (\"I'm cooking mushroom risotto and want something medium-bodied and earthy to go with it.\",\n",
    "     {\"entities\": [\n",
    "         (12, 28, \"pairing_item\"),          # \"mushroom risotto\"\n",
    "         (48, 61, \"description_phrase\")     # \"medium-bodied\"\n",
    "     ]}),\n",
    "\n",
    "    (\"Pair a bold Napa Cabernet Sauvignon with sushi.\",\n",
    "     {\"entities\": [\n",
    "         (7, 35, \"wine_name\"),              # \"bold Napa Cabernet Sauvignon\"\n",
    "         (41, 46, \"pairing_item\")           # \"sushi\"\n",
    "     ]}),\n",
    "\n",
    "    (\"Find me a dry Riesling from Mosel to serve with pork belly and sauerkraut.\",\n",
    "     {\"entities\": [\n",
    "         (14, 33, \"wine_name\"),             # \"dry Riesling from Mosel\"\n",
    "         (48, 73, \"pairing_item\")           # \"pork belly and sauerkraut\"\n",
    "     ]}),\n",
    "\n",
    "    (\"I want a sparkling wine under $100 that goes with smoked salmon.\",\n",
    "     {\"entities\": [\n",
    "         (9, 23, \"wine_name\"),              # \"sparkling wine\"\n",
    "         (30, 34, \"price\"),                 # \"$100\"\n",
    "         (50, 64, \"pairing_item\")           # \"smoked salmon\"\n",
    "     ]}),\n",
    "\n",
    "    (\"Looking for a wine to pair with mushroom pâté — preferably something earthy and herbal.\",\n",
    "     {\"entities\": [\n",
    "         (32, 45, \"pairing_item\"),          # \"mushroom pâté\"\n",
    "         (69, 87, \"description_phrase\")     # \"earthy and herbal\"\n",
    "     ]}),\n",
    "\n",
    "    (\"What's a good wine under 50 USD for roast duck?\",\n",
    "     {\"entities\": [\n",
    "         (25, 31, \"price\"),                 # \"50 USD\"\n",
    "         (36, 46, \"pairing_item\")           # \"roast duck\"\n",
    "     ]}),\n",
    "\n",
    "    (\"Recommend something festive that pairs with oysters and caviar.\",\n",
    "     {\"entities\": [\n",
    "         (20, 27, \"occasion\"),              # \"festive\"\n",
    "         (44, 51, \"pairing_item\"),          # \"oysters\"\n",
    "         (56, 62, \"pairing_item\")           # \"caviar\"\n",
    "     ]}),\n",
    "]\n",
    "\n"
   ]
  },
  {
   "cell_type": "code",
   "execution_count": 28,
   "id": "cb61e687-cc20-42cb-8521-24531a865d01",
   "metadata": {},
   "outputs": [],
   "source": [
    "# check_alignment(NER_DATA)"
   ]
  },
  {
   "cell_type": "code",
   "execution_count": 18,
   "id": "a7fc0d62-88db-407b-a122-c2e03873057d",
   "metadata": {},
   "outputs": [
    {
     "name": "stdout",
     "output_type": "stream",
     "text": [
      "Epoch 1, losses: {'ner': np.float32(117.89655)}\n",
      "Epoch 2, losses: {'ner': np.float32(44.81151)}\n",
      "Epoch 3, losses: {'ner': np.float32(39.62362)}\n",
      "Epoch 4, losses: {'ner': np.float32(27.899956)}\n",
      "Epoch 5, losses: {'ner': np.float32(87.491005)}\n",
      "Epoch 6, losses: {'ner': np.float32(31.17111)}\n",
      "Epoch 7, losses: {'ner': np.float32(29.020218)}\n",
      "Epoch 8, losses: {'ner': np.float32(18.3967)}\n",
      "Epoch 9, losses: {'ner': np.float32(27.289991)}\n",
      "Epoch 10, losses: {'ner': np.float32(14.38584)}\n",
      "Epoch 11, losses: {'ner': np.float32(11.4727745)}\n",
      "Epoch 12, losses: {'ner': np.float32(21.41718)}\n",
      "Epoch 13, losses: {'ner': np.float32(6.208621)}\n",
      "Epoch 14, losses: {'ner': np.float32(4.08717)}\n",
      "Epoch 15, losses: {'ner': np.float32(4.831746)}\n",
      "Epoch 16, losses: {'ner': np.float32(0.085311145)}\n",
      "Epoch 17, losses: {'ner': np.float32(0.004360127)}\n",
      "Epoch 18, losses: {'ner': np.float32(0.020516783)}\n",
      "Epoch 19, losses: {'ner': np.float32(0.00071766844)}\n",
      "Epoch 20, losses: {'ner': np.float32(0.0018037045)}\n",
      "Epoch 21, losses: {'ner': np.float32(0.001757487)}\n",
      "Epoch 22, losses: {'ner': np.float32(6.472503e-05)}\n",
      "Epoch 23, losses: {'ner': np.float32(4.6476904e-05)}\n",
      "Epoch 24, losses: {'ner': np.float32(1.6509919e-05)}\n",
      "Epoch 25, losses: {'ner': np.float32(1.064266e-05)}\n",
      "Epoch 26, losses: {'ner': np.float32(1.1721663e-05)}\n",
      "Epoch 27, losses: {'ner': np.float32(2.0658712e-05)}\n",
      "Epoch 28, losses: {'ner': np.float32(3.9370087e-05)}\n",
      "Epoch 29, losses: {'ner': np.float32(0.0035568082)}\n",
      "Epoch 30, losses: {'ner': np.float32(1.282754e-06)}\n"
     ]
    }
   ],
   "source": [
    "labels = [\"wine_name\", \"price\", \"description_phrase\", \"pairing_item\", \"region\", \"occasion\"]\n",
    "\n",
    "# create blank NER pipeline and add labels\n",
    "nlp_ner = spacy.blank(\"en\")\n",
    "ner = nlp_ner.add_pipe(\"ner\")\n",
    "\n",
    "for label in labels:\n",
    "    ner.add_label(label)\n",
    "\n",
    "# train model\n",
    "optimizer = nlp_ner.begin_training()\n",
    "for i in range(30):\n",
    "    losses = {}\n",
    "    for text, annotations in NER_DATA:\n",
    "        example = Example.from_dict(nlp_ner.make_doc(text), annotations)\n",
    "        nlp_ner.update([example], drop=0.1, losses=losses)\n",
    "    print(f\"Epoch {i+1}, losses: {losses}\")\n",
    "\n",
    "nlp_ner.to_disk(\"ner_model\")"
   ]
  },
  {
   "cell_type": "code",
   "execution_count": 18,
   "id": "8a4df86a-2811-48eb-9e9a-dbf0b0f58ed0",
   "metadata": {
    "jupyter": {
     "source_hidden": true
    }
   },
   "outputs": [],
   "source": [
    "def extract_wine_query_fields(doc):\n",
    "    fields = {\n",
    "        \"wine_name\": None,\n",
    "        \"price\": None,\n",
    "        \"description_phrase\": None,\n",
    "        \"pairing_item\": [],\n",
    "        \"region\": None,\n",
    "        \"occasion\": None\n",
    "    }\n",
    "\n",
    "    for ent in doc.ents:\n",
    "        print(f\"Detected: {ent.text} ({ent.label_})\")\n",
    "        if ent.label_ == \"pairing_item\":\n",
    "            fields[\"pairing_item\"].append(ent.text)\n",
    "        elif ent.label_ in fields:\n",
    "            fields[ent.label_] = ent.text\n",
    "\n",
    "    if not fields[\"pairing_item\"]:\n",
    "        fields[\"pairing_item\"] = None\n",
    "\n",
    "    return fields\n"
   ]
  },
  {
   "cell_type": "code",
   "execution_count": 25,
   "id": "1b1d84db-ebfa-47fa-861e-c1353c05ffd3",
   "metadata": {},
   "outputs": [
    {
     "name": "stdout",
     "output_type": "stream",
     "text": [
      "[('Blanc', 'pairing_item'), ('goat cheese.', 'pairing_item')]\n"
     ]
    }
   ],
   "source": [
    "text = \"Find a crisp Sauvignon Blanc that pairs well with goat cheese.\"\n",
    "doc = nlp_ner(text)\n",
    "\n",
    "print([(ent.text, ent.label_) for ent in doc.ents])\n"
   ]
  },
  {
   "cell_type": "markdown",
   "id": "4eeb157a-fde1-4c50-a8d6-ee3348b598f6",
   "metadata": {},
   "source": [
    "### Current Problems\n",
    "- issues with alignment of labelling, which leads to improper learning -> understand problem\n",
    "- lack of training samples for each field -> automate training data generation using spacy project\n",
    "- consider possible problem that each combination of field is registered as unique\n",
    "\n",
    "\n",
    "### How to Use\n",
    "- Train each model separately using Jupyter or Python script.\n",
    "- Use spacy.load() to load and run predictions.\n",
    "- You can optionally combine both models into a single pipeline or deploy via FastAPI.\n",
    "\n",
    "### Next Steps\n",
    "- Add more examples for robust predictions\n",
    "- Combine TextCat and NER in one spaCy pipeline\n",
    "- Deploy with Flask or FastAPI for real-time use\n",
    "- Use Label Studio or Prodigy to label at scale"
   ]
  }
 ],
 "metadata": {
  "kernelspec": {
   "display_name": "rag-env",
   "language": "python",
   "name": "rag-env"
  },
  "language_info": {
   "codemirror_mode": {
    "name": "ipython",
    "version": 3
   },
   "file_extension": ".py",
   "mimetype": "text/x-python",
   "name": "python",
   "nbconvert_exporter": "python",
   "pygments_lexer": "ipython3",
   "version": "3.11.9"
  }
 },
 "nbformat": 4,
 "nbformat_minor": 5
}
