{
 "cells": [
  {
   "cell_type": "markdown",
   "id": "d73d7d4c-770e-42ff-9942-46ce7bece0cf",
   "metadata": {},
   "source": [
    "# 🍷 Wine & Food NLP with spaCy\n",
    "\n",
    "This project builds two lightweight NLP models using [spaCy](https://spacy.io) for handling natural language queries related to wine and food. It supports:\n",
    "\n",
    "- **Intent Classification**: Distinguish between wine or food recommendation queries.\n",
    "- **Named Entity Recognition (NER)**: Extract key details like wine name, price, and tasting descriptions.\n",
    "\n",
    "---\n",
    "<br>\n",
    "\n",
    "### Text Classification Model (Intent Detection)\n",
    "Example Inputs:\n",
    "- “Recommend a red wine under 300 HKD that pairs with grilled lamb.” → recommend_wine\n",
    "- “What should I cook for dinner to go with a chilled bottle of Sancerre?” → recommend_food\n",
    "\n",
    "\n",
    "Output Example\n",
    "- {'recommend_wine': 0.01, 'recommend_food': 0.99}\n",
    "<br>\n",
    "\n",
    "---\n",
    "\n"
   ]
  },
  {
   "cell_type": "code",
   "execution_count": 26,
   "id": "dabc9800-d3c1-4745-8d77-7ae534217b1f",
   "metadata": {},
   "outputs": [
    {
     "name": "stdout",
     "output_type": "stream",
     "text": [
      "Epoch 1, Losses: {'textcat': 1.0340981185436249}\n",
      "Epoch 2, Losses: {'textcat': 0.7742716521024704}\n",
      "Epoch 3, Losses: {'textcat': 0.4202875867486}\n",
      "Epoch 4, Losses: {'textcat': 0.13618924655020237}\n",
      "Epoch 5, Losses: {'textcat': 0.02502437774091959}\n",
      "Epoch 6, Losses: {'textcat': 0.002704028840526007}\n",
      "Epoch 7, Losses: {'textcat': 0.0002550006211095024}\n",
      "Epoch 8, Losses: {'textcat': 3.303227640572004e-05}\n",
      "Epoch 9, Losses: {'textcat': 6.782430546081741e-06}\n",
      "Epoch 10, Losses: {'textcat': 2.1016941502693953e-06}\n",
      "Epoch 11, Losses: {'textcat': 8.968619056304306e-07}\n",
      "Epoch 12, Losses: {'textcat': 4.847795551654599e-07}\n",
      "Epoch 13, Losses: {'textcat': 3.1036319469990303e-07}\n",
      "Epoch 14, Losses: {'textcat': 2.2392674026150416e-07}\n",
      "Epoch 15, Losses: {'textcat': 1.7591662349047965e-07}\n",
      "Epoch 16, Losses: {'textcat': 1.4668297509956574e-07}\n",
      "Epoch 17, Losses: {'textcat': 1.2749947941870232e-07}\n",
      "Epoch 18, Losses: {'textcat': 1.1411040290454366e-07}\n",
      "Epoch 19, Losses: {'textcat': 1.0419687868079563e-07}\n",
      "Epoch 20, Losses: {'textcat': 9.649934717970154e-08}\n"
     ]
    }
   ],
   "source": [
    "import spacy\n",
    "from spacy.training.example import Example\n",
    "\n",
    "# prepare training data with annotations\n",
    "TRAIN_DATA = [\n",
    "    (\"What wine goes well with spicy Thai green curry?\", {\"cats\": {\"recommend_wine\": 1.0, \"recommend_food\": 0.0}}),\n",
    "    (\"Suggest a red wine under 300 HKD that pairs with grilled lamb.\", {\"cats\": {\"recommend_wine\": 1.0, \"recommend_food\": 0.0}}),\n",
    "    (\"I have a bottle of Amarone — what foods would pair well with it?\", {\"cats\": {\"recommend_wine\": 0.0, \"recommend_food\": 1.0}}),\n",
    "    (\"What should I cook for dinner to go with a chilled bottle of Sancerre?\", {\"cats\": {\"recommend_wine\": 0.0, \"recommend_food\": 1.0}}),\n",
    "    (\"Suggest a celebratory wine that works with oysters and has high acidity.\", {\"cats\": {\"recommend_wine\": 1.0, \"recommend_food\": 0.0}}),\n",
    "    (\"I'm cooking mushroom risotto and want something medium-bodied and earthy to go with it.\", {\"cats\": {\"recommend_wine\": 1.0, \"recommend_food\": 0.0}}),\n",
    "    (\"Pair a bold Napa Cabernet Sauvignon with sushi.\", {\"cats\": {\"recommend_wine\": 1.0, \"recommend_food\": 0.0}}),\n",
    "    (\"What are the best dishes to serve with a 2020 Puligny-Montrachet Chardonnay?\", {\"cats\": {\"recommend_wine\": 0.0, \"recommend_food\": 1.0}}),\n",
    "    (\"Can you suggest a full-course meal to go with a vintage Champagne?\", {\"cats\": {\"recommend_wine\": 0.0, \"recommend_food\": 1.0}}),\n",
    "    (\"What kind of food works well with a sweet Riesling from Mosel?\", {\"cats\": {\"recommend_wine\": 0.0, \"recommend_food\": 1.0}})\n",
    "]\n",
    "\n",
    "# create blank NLP pipeline and add labels\n",
    "nlp = spacy.blank(\"en\")\n",
    "textcat = nlp.add_pipe(\"textcat\")\n",
    "textcat.add_label(\"recommend_wine\")\n",
    "textcat.add_label(\"recommend_food\")\n",
    "\n",
    "# train\n",
    "optimizer = nlp.begin_training()\n",
    "for i in range(20):\n",
    "    losses = {}\n",
    "    for text, annotation in TRAIN_DATA:\n",
    "        example = Example.from_dict(nlp.make_doc(text), annotation)\n",
    "        nlp.update([example], sgd=optimizer, losses=losses)\n",
    "    print(f\"Epoch {i+1}, Losses: {losses}\")\n",
    "\n",
    "# save text categorization model\n",
    "nlp.to_disk(\"textcat_model\")"
   ]
  },
  {
   "cell_type": "markdown",
   "id": "c65fabde-ef0e-46f3-b404-297cd8233e33",
   "metadata": {},
   "source": [
    "<br>\n",
    "\n",
    "To use the trained model, load it and pass a query."
   ]
  },
  {
   "cell_type": "code",
   "execution_count": 27,
   "id": "7c694d9f-0b15-4562-8551-1d41545da50e",
   "metadata": {},
   "outputs": [
    {
     "name": "stdout",
     "output_type": "stream",
     "text": [
      "{'recommend_wine': 0.1159258708357811, 'recommend_food': 0.8840740919113159}\n"
     ]
    }
   ],
   "source": [
    "nlp_textcat = spacy.load(\"textcat_model\")\n",
    "\n",
    "query = \"What should I cook to go with my Champagne?\" # test a query out!\n",
    "doc = nlp_textcat(query)\n",
    "print(doc.cats)"
   ]
  },
  {
   "cell_type": "markdown",
   "id": "17c1bdce-54d0-42b8-bb94-2efebfe1c100",
   "metadata": {},
   "source": [
    "<br>\n",
    "\n",
    "### Named Entity Recognition (NER) Model\n",
    "Extracted Fields:\n",
    "- wine_name: “Silver Oak 2019”\n",
    "- price: “$120”\n",
    "- description_phrase: “vanilla and cherries”\n",
    "\n",
    "Output Example\n",
    "- wine_name : 2020 Opus One\n",
    "- price : $299\n",
    "- description_phrase : chocolate, spice, and tobacco\n",
    "\n",
    "---\n",
    "\n",
    "**Quick Notes**: \n",
    "- A problem you will likely encounter when training a NER with multiple labels is the quality of annotations\n",
    "- Annotation indices (i.e., start index and end index) should match with the start and end indices of the token/s\n",
    "- For example, \"Try Château Margaux for $350.\" \"Château Margaux\" has a valid token span from start=4 to end=19. An error would occur if you try to index end=18.\n",
    "- Remember this when generating training data using LLMs, as they are prone to inaccurate indexing. Use Prodigy to help label your training data"
   ]
  },
  {
   "cell_type": "code",
   "execution_count": 5,
   "id": "73239c8a-0b2a-4638-a4ee-77ed7bb844e8",
   "metadata": {},
   "outputs": [],
   "source": [
    "import spacy\n",
    "from spacy.training.example import Example\n",
    "from spacy.tokens import DocBin\n",
    "\n",
    "nlp = spacy.blank(\"en\")"
   ]
  },
  {
   "cell_type": "code",
   "execution_count": 6,
   "id": "eaaa07bd-7bdd-482f-98c6-e3c50c815aa7",
   "metadata": {},
   "outputs": [],
   "source": [
    "# function for checking misaligned indices\n",
    "def check_alignment(train_data):\n",
    "    for i, (text, annots) in enumerate(train_data):\n",
    "        doc = nlp(text)\n",
    "        entities = []\n",
    "        errors = False\n",
    "\n",
    "        print(f\"Sample {i+1}: {text}\")\n",
    "        for start, end, label in annots[\"entities\"]:\n",
    "            span = doc.char_span(start, end, label=label, alignment_mode=\"strict\")\n",
    "            if span is None:\n",
    "                print(f\"Misaligned span: '{text[start:end]}' -> ({start}, {end}) for label {label}\")\n",
    "                errors = True\n",
    "            else:\n",
    "                print(f\"Valid span: {span.text} ({span.start_char}, {span.end_char})\")\n",
    "        \n",
    "        if not errors:\n",
    "            print(\"all spans aligned\")"
   ]
  },
  {
   "cell_type": "code",
   "execution_count": 19,
   "id": "018c0147-6623-4bad-88cd-ed8dedae84d8",
   "metadata": {},
   "outputs": [],
   "source": [
    "# Training data for NER\n",
    "NER_DATA = [\n",
    "    (\"Can you recommend a red wine under $40 for a dinner party?\",\n",
    "     {\"entities\": [\n",
    "         (20, 23, \"wine_type\"),          # \"red\"\n",
    "         (36, 38, \"max_price\")           # \"$40\"\n",
    "     ]}),\n",
    "\n",
    "    (\"I need a white wine priced above 20 USD for seafood.\",\n",
    "     {\"entities\": [\n",
    "         (9, 14, \"wine_type\"),          # \"white\"\n",
    "         (33, 35, \"min_price\")           # \"20 USD\"\n",
    "     ]}),\n",
    "\n",
    "    (\"Looking for Champagne or Prosecco to celebrate a birthday.\",\n",
    "     {\"entities\": [\n",
    "         (12, 21, \"wine_name\"),          # \"Champagne\"\n",
    "         (25, 33, \"wine_name\")           # \"Prosecco\"\n",
    "     ]}),\n",
    "\n",
    "    (\"Suggest a wine under $25 that goes well with grilled chicken.\",\n",
    "     {\"entities\": [\n",
    "         (22, 24, \"max_price\")           # \"$25\"\n",
    "     ]}),\n",
    "\n",
    "    (\"Is there a full-bodied red under 100 HKD?\",\n",
    "     {\"entities\": [\n",
    "         (23, 26, \"wine_type\"),          # \"red\"\n",
    "         (33, 36, \"max_price\")           # \"100 HKD\"\n",
    "     ]}),\n",
    "\n",
    "    (\"I’m in the mood for an oaked Chardonnay.\",\n",
    "     {\"entities\": [\n",
    "         (29, 39, \"wine_name\")           # \"oaked Chardonnay\"\n",
    "     ]}),\n",
    "\n",
    "    (\"Any bold Syrah or Malbec options for under $60?\",\n",
    "     {\"entities\": [\n",
    "         (9, 14, \"wine_name\"),           # \"Syrah\"\n",
    "         (18, 24, \"wine_name\"),          # \"Malbec\"\n",
    "         (44, 46, \"max_price\")           # \"$60\"\n",
    "     ]}),\n",
    "\n",
    "    (\"Looking for a wine that costs at least 30 USD, preferably red.\",\n",
    "     {\"entities\": [\n",
    "         (39, 41, \"min_price\"),          # \"30 USD\"\n",
    "         (58, 61, \"wine_type\")           # \"red\"\n",
    "     ]}),\n",
    "\n",
    "    (\"I’d like a sparkling wine around 50 dollars.\",\n",
    "     {\"entities\": [\n",
    "         (11, 20, \"wine_type\"),          # \"sparkling wine\"\n",
    "         (33, 35, \"max_price\")           # \"50 dollars\"\n",
    "     ]}),\n",
    "\n",
    "    (\"Do you have a Pinot Noir or Merlot from California?\",\n",
    "     {\"entities\": [\n",
    "         (14, 24, \"wine_name\"),          # \"Pinot Noir\"\n",
    "         (28, 34, \"wine_name\")           # \"Merlot\"\n",
    "     ]}),\n",
    "]\n",
    "    \n",
    "\n"
   ]
  },
  {
   "cell_type": "code",
   "execution_count": 20,
   "id": "cb61e687-cc20-42cb-8521-24531a865d01",
   "metadata": {},
   "outputs": [
    {
     "name": "stdout",
     "output_type": "stream",
     "text": [
      "Sample 1: Can you recommend a red wine under $40 for a dinner party?\n",
      "Valid span: red (20, 23)\n",
      "Valid span: 40 (36, 38)\n",
      "all spans aligned\n",
      "Sample 2: I need a white wine priced above 20 USD for seafood.\n",
      "Valid span: white (9, 14)\n",
      "Valid span: 20 (33, 35)\n",
      "all spans aligned\n",
      "Sample 3: Looking for Champagne or Prosecco to celebrate a birthday.\n",
      "Valid span: Champagne (12, 21)\n",
      "Valid span: Prosecco (25, 33)\n",
      "all spans aligned\n",
      "Sample 4: Suggest a wine under $25 that goes well with grilled chicken.\n",
      "Valid span: 25 (22, 24)\n",
      "all spans aligned\n",
      "Sample 5: Is there a full-bodied red under 100 HKD?\n",
      "Valid span: red (23, 26)\n",
      "Valid span: 100 (33, 36)\n",
      "all spans aligned\n",
      "Sample 6: I’m in the mood for an oaked Chardonnay.\n",
      "Valid span: Chardonnay (29, 39)\n",
      "all spans aligned\n",
      "Sample 7: Any bold Syrah or Malbec options for under $60?\n",
      "Valid span: Syrah (9, 14)\n",
      "Valid span: Malbec (18, 24)\n",
      "Valid span: 60 (44, 46)\n",
      "all spans aligned\n",
      "Sample 8: Looking for a wine that costs at least 30 USD, preferably red.\n",
      "Valid span: 30 (39, 41)\n",
      "Valid span: red (58, 61)\n",
      "all spans aligned\n",
      "Sample 9: I’d like a sparkling wine around 50 dollars.\n",
      "Valid span: sparkling (11, 20)\n",
      "Valid span: 50 (33, 35)\n",
      "all spans aligned\n",
      "Sample 10: Do you have a Pinot Noir or Merlot from California?\n",
      "Valid span: Pinot Noir (14, 24)\n",
      "Valid span: Merlot (28, 34)\n",
      "all spans aligned\n"
     ]
    }
   ],
   "source": [
    "check_alignment(NER_DATA)"
   ]
  },
  {
   "cell_type": "code",
   "execution_count": 21,
   "id": "a7fc0d62-88db-407b-a122-c2e03873057d",
   "metadata": {},
   "outputs": [
    {
     "name": "stdout",
     "output_type": "stream",
     "text": [
      "Epoch 1, losses: {'ner': np.float32(97.55092)}\n",
      "Epoch 2, losses: {'ner': np.float32(34.74291)}\n",
      "Epoch 3, losses: {'ner': np.float32(22.620691)}\n",
      "Epoch 4, losses: {'ner': np.float32(23.715134)}\n",
      "Epoch 5, losses: {'ner': np.float32(13.426863)}\n",
      "Epoch 6, losses: {'ner': np.float32(15.221252)}\n",
      "Epoch 7, losses: {'ner': np.float32(2.5267994)}\n",
      "Epoch 8, losses: {'ner': np.float32(1.537985)}\n",
      "Epoch 9, losses: {'ner': np.float32(1.9582396)}\n",
      "Epoch 10, losses: {'ner': np.float32(2.3020358)}\n",
      "Epoch 11, losses: {'ner': np.float32(0.52321017)}\n",
      "Epoch 12, losses: {'ner': np.float32(0.8099005)}\n",
      "Epoch 13, losses: {'ner': np.float32(0.0007082283)}\n",
      "Epoch 14, losses: {'ner': np.float32(0.00020773779)}\n",
      "Epoch 15, losses: {'ner': np.float32(4.023227e-05)}\n",
      "Epoch 16, losses: {'ner': np.float32(1.7405722e-05)}\n",
      "Epoch 17, losses: {'ner': np.float32(6.123233e-06)}\n",
      "Epoch 18, losses: {'ner': np.float32(7.8020275e-06)}\n",
      "Epoch 19, losses: {'ner': np.float32(8.219353e-06)}\n",
      "Epoch 20, losses: {'ner': np.float32(1.988422e-06)}\n",
      "Epoch 21, losses: {'ner': np.float32(7.788295e-06)}\n",
      "Epoch 22, losses: {'ner': np.float32(4.5685642e-06)}\n",
      "Epoch 23, losses: {'ner': np.float32(1.2956732e-06)}\n",
      "Epoch 24, losses: {'ner': np.float32(1.6286886e-06)}\n",
      "Epoch 25, losses: {'ner': np.float32(6.019742e-06)}\n",
      "Epoch 26, losses: {'ner': np.float32(3.7907314e-06)}\n",
      "Epoch 27, losses: {'ner': np.float32(4.1887844e-07)}\n",
      "Epoch 28, losses: {'ner': np.float32(6.5653603e-07)}\n",
      "Epoch 29, losses: {'ner': np.float32(5.273409e-07)}\n",
      "Epoch 30, losses: {'ner': np.float32(3.5214208e-07)}\n"
     ]
    }
   ],
   "source": [
    "labels = [\"wine_name\", \"min_price\", \"max_price\", \"wine_type\"]\n",
    "\n",
    "# create blank NER pipeline and add labels\n",
    "nlp_ner = spacy.blank(\"en\")\n",
    "ner = nlp_ner.add_pipe(\"ner\")\n",
    "\n",
    "for label in labels:\n",
    "    ner.add_label(label)\n",
    "\n",
    "# train model\n",
    "optimizer = nlp_ner.begin_training()\n",
    "for i in range(30):\n",
    "    losses = {}\n",
    "    for text, annotations in NER_DATA:\n",
    "        example = Example.from_dict(nlp_ner.make_doc(text), annotations)\n",
    "        nlp_ner.update([example], drop=0.1, losses=losses)\n",
    "    print(f\"Epoch {i+1}, losses: {losses}\")\n",
    "\n",
    "nlp_ner.to_disk(\"ner_model\")"
   ]
  },
  {
   "cell_type": "code",
   "execution_count": 18,
   "id": "8a4df86a-2811-48eb-9e9a-dbf0b0f58ed0",
   "metadata": {
    "jupyter": {
     "source_hidden": true
    }
   },
   "outputs": [],
   "source": [
    "def extract_wine_query_fields(doc):\n",
    "    fields = {\n",
    "        \"wine_name\": None,\n",
    "        \"price\": None,\n",
    "        \"description_phrase\": None,\n",
    "        \"pairing_item\": [],\n",
    "        \"region\": None,\n",
    "        \"occasion\": None\n",
    "    }\n",
    "\n",
    "    for ent in doc.ents:\n",
    "        print(f\"Detected: {ent.text} ({ent.label_})\")\n",
    "        if ent.label_ == \"pairing_item\":\n",
    "            fields[\"pairing_item\"].append(ent.text)\n",
    "        elif ent.label_ in fields:\n",
    "            fields[ent.label_] = ent.text\n",
    "\n",
    "    if not fields[\"pairing_item\"]:\n",
    "        fields[\"pairing_item\"] = None\n",
    "\n",
    "    return fields\n"
   ]
  },
  {
   "cell_type": "code",
   "execution_count": 22,
   "id": "1b1d84db-ebfa-47fa-861e-c1353c05ffd3",
   "metadata": {},
   "outputs": [
    {
     "name": "stdout",
     "output_type": "stream",
     "text": [
      "[('sparkling', 'wine_type'), ('50', 'max_price')]\n"
     ]
    }
   ],
   "source": [
    "text = \"I’d like a sparkling wine around 50 dollars.\"\n",
    "doc = nlp_ner(text)\n",
    "\n",
    "print([(ent.text, ent.label_) for ent in doc.ents])\n"
   ]
  },
  {
   "cell_type": "markdown",
   "id": "4eeb157a-fde1-4c50-a8d6-ee3348b598f6",
   "metadata": {},
   "source": [
    "### Current Problems\n",
    "- issues with alignment of labelling, which leads to improper learning -> understand problem\n",
    "- lack of training samples for each field -> automate training data generation using spacy project\n",
    "- consider possible problem that each combination of field is registered as unique\n",
    "\n",
    "\n",
    "### How to Use\n",
    "- Train each model separately using Jupyter or Python script.\n",
    "- Use spacy.load() to load and run predictions.\n",
    "- You can optionally combine both models into a single pipeline or deploy via FastAPI.\n",
    "\n",
    "### Next Steps\n",
    "- Add more examples for robust predictions\n",
    "- Combine TextCat and NER in one spaCy pipeline\n",
    "- Deploy with Flask or FastAPI for real-time use\n",
    "- Use Label Studio or Prodigy to label at scale"
   ]
  }
 ],
 "metadata": {
  "kernelspec": {
   "display_name": "rag-env",
   "language": "python",
   "name": "rag-env"
  },
  "language_info": {
   "codemirror_mode": {
    "name": "ipython",
    "version": 3
   },
   "file_extension": ".py",
   "mimetype": "text/x-python",
   "name": "python",
   "nbconvert_exporter": "python",
   "pygments_lexer": "ipython3",
   "version": "3.11.9"
  }
 },
 "nbformat": 4,
 "nbformat_minor": 5
}
